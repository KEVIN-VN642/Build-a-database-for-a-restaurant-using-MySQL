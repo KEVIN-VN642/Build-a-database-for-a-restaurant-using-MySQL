{
 "cells": [
  {
   "cell_type": "markdown",
   "id": "a249498a",
   "metadata": {},
   "source": [
    "First, we need to install mysql-connector-python"
   ]
  },
  {
   "cell_type": "code",
   "execution_count": 1,
   "id": "fcafe4c6",
   "metadata": {},
   "outputs": [
    {
     "name": "stdout",
     "output_type": "stream",
     "text": [
      "Requirement already satisfied: mysql-connector-python in c:\\users\\nghia\\anaconda3\\lib\\site-packages (9.3.0)\n"
     ]
    }
   ],
   "source": [
    "!pip install mysql-connector-python"
   ]
  },
  {
   "cell_type": "markdown",
   "id": "5aa34447",
   "metadata": {},
   "source": [
    "### Task 1: Set up connection"
   ]
  },
  {
   "cell_type": "code",
   "execution_count": 50,
   "id": "479bda41",
   "metadata": {},
   "outputs": [],
   "source": [
    "# Import connectors module\n",
    "from mysql.connector import Error\n",
    "import mysql.connector as connector\n",
    "\n",
    "try:\n",
    "    # Create a connection pool\n",
    "    connection=connector.connect(user=\"root\",password=\"thanhhoa\", database = 'LittleLemondb')\n",
    "except Error as er:\n",
    "    print(\"Error Code \", er.errno)\n",
    "    print(\"Error Message \", er.msg)"
   ]
  },
  {
   "cell_type": "code",
   "execution_count": 51,
   "id": "f7d2cd58",
   "metadata": {},
   "outputs": [
    {
     "data": {
      "text/plain": [
       "'littlelemondb'"
      ]
     },
     "execution_count": 51,
     "metadata": {},
     "output_type": "execute_result"
    }
   ],
   "source": [
    "# Showing current database\n",
    "connection.database"
   ]
  },
  {
   "cell_type": "markdown",
   "id": "105dd521",
   "metadata": {},
   "source": [
    "### Task 2: Showing all tables"
   ]
  },
  {
   "cell_type": "code",
   "execution_count": 14,
   "id": "df64ae64",
   "metadata": {},
   "outputs": [],
   "source": [
    "cursor = connection.cursor()"
   ]
  },
  {
   "cell_type": "code",
   "execution_count": 15,
   "id": "6229fb62",
   "metadata": {},
   "outputs": [],
   "source": [
    "show_tables_query = \"SHOW tables;\" \n",
    "cursor.execute(show_tables_query)\n",
    "tables = cursor.fetchall()\n"
   ]
  },
  {
   "cell_type": "code",
   "execution_count": 21,
   "id": "eab57618",
   "metadata": {},
   "outputs": [
    {
     "name": "stdout",
     "output_type": "stream",
     "text": [
      "bookings\n",
      "customers\n",
      "deliverydetails\n",
      "deliverystatus\n",
      "menuitems\n",
      "menus\n",
      "orders\n",
      "ordersview\n",
      "summaryorder\n"
     ]
    }
   ],
   "source": [
    "# List all tables in the database\n",
    "for table in tables:\n",
    "    print(table[0]) "
   ]
  },
  {
   "cell_type": "markdown",
   "id": "31b3b294",
   "metadata": {},
   "source": [
    "### Task 3: Show the full name and contact details for every customer that has placed an order greater than $60 for a promotional campaign"
   ]
  },
  {
   "cell_type": "code",
   "execution_count": 22,
   "id": "a0f73d00",
   "metadata": {},
   "outputs": [],
   "source": [
    "query = \"\"\"\n",
    "select customers.Name, Customers.CustomerPhone, Customers.Email, Orders.TotalCost\n",
    "from Customers\n",
    "inner join Orders on Customers.CustomerID = Orders.CustomerID\n",
    "where Orders.TotalCost > 60;\n",
    "\"\"\"\n",
    "cursor.execute(query)\n",
    "result = cursor.fetchall()"
   ]
  },
  {
   "cell_type": "code",
   "execution_count": 28,
   "id": "da2195b8",
   "metadata": {},
   "outputs": [
    {
     "name": "stdout",
     "output_type": "stream",
     "text": [
      "Customer name and contact information with order over $60 \n",
      "\n",
      "['Name', 'CustomerPhone', 'Email', 'TotalCost']\n",
      "Kein 35435 kein@gmail.com 100\n",
      "Many 3636 many@gmail.com 120\n",
      "Keith 46309 keith@gmail.com 160\n"
     ]
    }
   ],
   "source": [
    "# Customer name and contact information with order over $60\n",
    "print(\"Customer name and contact information with order over $60 \\n\")\n",
    "columns = [column[0] for column in cursor.description]\n",
    "print(columns)\n",
    "for a in result:\n",
    "    print(a[0], a[1], a[2], a[3])"
   ]
  },
  {
   "cell_type": "markdown",
   "id": "54f8cc03",
   "metadata": {},
   "source": [
    "Validate the stored procedure:\n",
    "- GetMaxQuantity\n",
    "- UpdateBooking\n",
    "- AddBooking\n",
    "- CancelBooking\n",
    "- CheckBooking\n",
    "- AddValidBooking"
   ]
  },
  {
   "cell_type": "code",
   "execution_count": 46,
   "id": "1d998452",
   "metadata": {},
   "outputs": [
    {
     "name": "stdout",
     "output_type": "stream",
     "text": [
      "Maximum quantity ordered\n"
     ]
    },
    {
     "data": {
      "text/plain": [
       "True"
      ]
     },
     "execution_count": 46,
     "metadata": {},
     "output_type": "execute_result"
    }
   ],
   "source": [
    "# Validate GetMaxQuantity procedure\n",
    "query = \"call GetMaxQuantity();\"\n",
    "cursor = connection.cursor()\n",
    "cursor.execute(query)\n",
    "result = cursor.fetchall()\n",
    "\n",
    "# Maximum quantity ordered \n",
    "print(\"Maximum quantity ordered\")\n",
    "result[0][0]\n",
    "cursor.close()\n"
   ]
  },
  {
   "cell_type": "code",
   "execution_count": 80,
   "id": "be731a62",
   "metadata": {},
   "outputs": [
    {
     "name": "stdout",
     "output_type": "stream",
     "text": [
      "Error Code  1062\n",
      "Error Message  Duplicate entry '13' for key 'bookings.PRIMARY'\n"
     ]
    }
   ],
   "source": [
    "# Validate AddBooking procedure\n",
    "# AddBooking procedure adds a new booking to the database\n",
    "try:\n",
    "    cursor.callproc('AddBooking', (13,3,4, '2022-12-30'))\n",
    "    results = next(cursor.stored_results())\n",
    "    print(\"Booking ID: \", results.fetchone()[0])\n",
    "    connection.commit()\n",
    "except Error as er:\n",
    "    print(\"Error Code \", er.errno)\n",
    "    print(\"Error Message \", er.msg)\n",
    "    \n",
    "#connection.commit()"
   ]
  },
  {
   "cell_type": "code",
   "execution_count": 81,
   "id": "133d5ce1",
   "metadata": {},
   "outputs": [
    {
     "name": "stdout",
     "output_type": "stream",
     "text": [
      "Booking ID:  Booking 13 updated\n"
     ]
    },
    {
     "name": "stderr",
     "output_type": "stream",
     "text": [
      "C:\\Users\\nghia\\AppData\\Local\\Temp\\ipykernel_10016\\1478069845.py:5: DeprecationWarning: Call to deprecated function stored_results. Reason: The property counterpart 'stored_results' will be added in a future release, and this method will be removed.\n",
      "  results = next(cursor.stored_results())\n"
     ]
    }
   ],
   "source": [
    "# Validate UpdateBooking procedure\n",
    "# UpdateBooking procedure update a new booking to the database\n",
    "try:\n",
    "    cursor.callproc('UpdateBooking', (13, '2022-12-20'))\n",
    "    results = next(cursor.stored_results())\n",
    "    print(\"Booking ID: \", results.fetchone()[0])\n",
    "    connection.commit()\n",
    "except Error as er:\n",
    "    print(\"Error Code \", er.errno)\n",
    "    print(\"Error Message \", er.msg)\n",
    "    \n",
    "#connection.commit()"
   ]
  },
  {
   "cell_type": "code",
   "execution_count": 84,
   "id": "2c8a5e21",
   "metadata": {},
   "outputs": [
    {
     "name": "stdout",
     "output_type": "stream",
     "text": [
      "Booking ID:  Booking 12 cancelled\n"
     ]
    },
    {
     "name": "stderr",
     "output_type": "stream",
     "text": [
      "C:\\Users\\nghia\\AppData\\Local\\Temp\\ipykernel_10016\\2313972257.py:5: DeprecationWarning: Call to deprecated function stored_results. Reason: The property counterpart 'stored_results' will be added in a future release, and this method will be removed.\n",
      "  results = next(cursor.stored_results())\n"
     ]
    }
   ],
   "source": [
    "# Validate CancelBooking procedure\n",
    "# CancelBooking procedure update a new booking to the database\n",
    "try:\n",
    "    cursor.callproc('CancelBooking', [12])\n",
    "    results = next(cursor.stored_results())\n",
    "    print(\"Booking ID: \", results.fetchone()[0])\n",
    "    connection.commit()\n",
    "except Error as er:\n",
    "    print(\"Error Code \", er.errno)\n",
    "    print(\"Error Message \", er.msg)\n",
    "    "
   ]
  },
  {
   "cell_type": "code",
   "execution_count": 85,
   "id": "8c3dcf57",
   "metadata": {},
   "outputs": [
    {
     "name": "stdout",
     "output_type": "stream",
     "text": [
      "Booking ID:  Table is3 alread booked.\n"
     ]
    },
    {
     "name": "stderr",
     "output_type": "stream",
     "text": [
      "C:\\Users\\nghia\\AppData\\Local\\Temp\\ipykernel_10016\\1627485443.py:5: DeprecationWarning: Call to deprecated function stored_results. Reason: The property counterpart 'stored_results' will be added in a future release, and this method will be removed.\n",
      "  results = next(cursor.stored_results())\n"
     ]
    }
   ],
   "source": [
    "# Validate CheckBooking procedure\n",
    "# CheckBooking procedure check if a booking can be made\n",
    "try:\n",
    "    cursor.callproc('CheckBooking', ('2022-11-12',3))\n",
    "    results = next(cursor.stored_results())\n",
    "    print(\"Booking ID: \", results.fetchone()[0])\n",
    "    connection.commit()\n",
    "except Error as er:\n",
    "    print(\"Error Code \", er.errno)\n",
    "    print(\"Error Message \", er.msg)\n",
    "    "
   ]
  },
  {
   "cell_type": "code",
   "execution_count": 87,
   "id": "08a1174e",
   "metadata": {},
   "outputs": [
    {
     "name": "stdout",
     "output_type": "stream",
     "text": [
      "Booking ID:  Table 3 is already booked.- book cancelled.\n"
     ]
    },
    {
     "name": "stderr",
     "output_type": "stream",
     "text": [
      "C:\\Users\\nghia\\AppData\\Local\\Temp\\ipykernel_10016\\3992700057.py:5: DeprecationWarning: Call to deprecated function stored_results. Reason: The property counterpart 'stored_results' will be added in a future release, and this method will be removed.\n",
      "  results = next(cursor.stored_results())\n"
     ]
    }
   ],
   "source": [
    "# Validate AddValidBooking procedure\n",
    "# If a booking is valid then add to the database otherwise return a cancel message\n",
    "try:\n",
    "    cursor.callproc('AddValidBooking', ('2022-11-12',3))\n",
    "    results = next(cursor.stored_results())\n",
    "    print(\"Booking ID: \", results.fetchone()[0])\n",
    "    connection.commit()\n",
    "except Error as er:\n",
    "    print(\"Error Code \", er.errno)\n",
    "    print(\"Error Message \", er.msg)\n",
    "    "
   ]
  }
 ],
 "metadata": {
  "kernelspec": {
   "display_name": "base",
   "language": "python",
   "name": "python3"
  },
  "language_info": {
   "codemirror_mode": {
    "name": "ipython",
    "version": 3
   },
   "file_extension": ".py",
   "mimetype": "text/x-python",
   "name": "python",
   "nbconvert_exporter": "python",
   "pygments_lexer": "ipython3",
   "version": "3.12.3"
  }
 },
 "nbformat": 4,
 "nbformat_minor": 5
}
