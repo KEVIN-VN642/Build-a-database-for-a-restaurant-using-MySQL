{
 "cells": [
  {
   "cell_type": "markdown",
   "id": "a249498a",
   "metadata": {},
   "source": [
    "First, we need to install mysql-connector-python"
   ]
  },
  {
   "cell_type": "markdown",
   "id": "aa6e66ff",
   "metadata": {},
   "source": [
    "### Introduction:\n",
    "This notebook will demonstrate how Python connect to MySQL database and interact with stored procedures as well as other queries."
   ]
  },
  {
   "cell_type": "code",
   "execution_count": null,
   "id": "fcafe4c6",
   "metadata": {},
   "outputs": [
    {
     "name": "stdout",
     "output_type": "stream",
     "text": [
      "Requirement already satisfied: mysql-connector-python in c:\\users\\nghia\\anaconda3\\lib\\site-packages (9.3.0)\n"
     ]
    }
   ],
   "source": [
    "# install mysql-connector-python package if it does not install yet\n",
    "# !pip install mysql-connector-python"
   ]
  },
  {
   "cell_type": "markdown",
   "id": "5aa34447",
   "metadata": {},
   "source": [
    "### Task 1: \n",
    "Set up connection"
   ]
  },
  {
   "cell_type": "code",
   "execution_count": 10,
   "id": "479bda41",
   "metadata": {},
   "outputs": [],
   "source": [
    "# Import connectors module\n",
    "from mysql.connector import Error\n",
    "import mysql.connector as connector\n",
    "\n",
    "try:\n",
    "    # Create a connection to the MySQL server\n",
    "    connection=connector.connect(user=\"root\",password=\"thanhhoa\", database = 'LittleLemon')\n",
    "except Error as er:\n",
    "    print(\"Error Code \", er.errno)\n",
    "    print(\"Error Message \", er.msg)"
   ]
  },
  {
   "cell_type": "code",
   "execution_count": 11,
   "id": "907c7ca6",
   "metadata": {},
   "outputs": [],
   "source": [
    "# Create a cursor object using the connection\n",
    "cursor = connection.cursor()"
   ]
  },
  {
   "cell_type": "markdown",
   "id": "105dd521",
   "metadata": {},
   "source": [
    "### Task 2: \n",
    "Showing all tables from database"
   ]
  },
  {
   "cell_type": "code",
   "execution_count": 12,
   "id": "6229fb62",
   "metadata": {},
   "outputs": [],
   "source": [
    "show_tables_query = \"SHOW tables;\" \n",
    "cursor.execute(show_tables_query)\n",
    "tables = cursor.fetchall()\n"
   ]
  },
  {
   "cell_type": "code",
   "execution_count": 13,
   "id": "eab57618",
   "metadata": {},
   "outputs": [
    {
     "name": "stdout",
     "output_type": "stream",
     "text": [
      "bookings\n",
      "customers\n",
      "deliveries\n",
      "menu_items\n",
      "orders\n"
     ]
    }
   ],
   "source": [
    "# List all tables in the database\n",
    "for table in tables:\n",
    "    print(table[0]) "
   ]
  },
  {
   "cell_type": "markdown",
   "id": "7bb1be70",
   "metadata": {},
   "source": [
    "#### Task 3:\n",
    "Validating stored procedures for booking system. There are five stored procedures:\n",
    "- CheckBooking: check whether a table already booked for certain data\n",
    "- CancelBooking: cancel a booking\n",
    "- UpdateBooking: change the date for a booking\n",
    "- AddBooking: Add a booking to system\n",
    "- AddValidBooking: Check if a table is booked on certain date before add booking to the system\n"
   ]
  },
  {
   "cell_type": "code",
   "execution_count": 14,
   "id": "fdc74797",
   "metadata": {},
   "outputs": [
    {
     "name": "stdout",
     "output_type": "stream",
     "text": [
      "Booking ID:  Table is3 alread booked.\n"
     ]
    },
    {
     "name": "stderr",
     "output_type": "stream",
     "text": [
      "C:\\Users\\nghia\\AppData\\Local\\Temp\\ipykernel_27640\\1146085969.py:5: DeprecationWarning: Call to deprecated function stored_results. Reason: The property counterpart 'stored_results' will be added in a future release, and this method will be removed.\n",
      "  results = next(cursor.stored_results())\n"
     ]
    }
   ],
   "source": [
    "# Validate CheckBooking procedure\n",
    "# CheckBooking procedure check if a booking can be made\n",
    "try:\n",
    "    cursor.callproc('CheckBooking', ('2023-10-10',3))\n",
    "    results = next(cursor.stored_results())\n",
    "    print(\"Booking ID: \", results.fetchone()[0])\n",
    "    connection.commit()\n",
    "except Error as er:\n",
    "    print(\"Error Code \", er.errno)\n",
    "    print(\"Error Message \", er.msg)\n",
    "    "
   ]
  },
  {
   "cell_type": "code",
   "execution_count": 16,
   "id": "e8eb3289",
   "metadata": {},
   "outputs": [
    {
     "name": "stdout",
     "output_type": "stream",
     "text": [
      "Booking ID:  Booking 12 cancelled\n"
     ]
    },
    {
     "name": "stderr",
     "output_type": "stream",
     "text": [
      "C:\\Users\\nghia\\AppData\\Local\\Temp\\ipykernel_27640\\2313972257.py:5: DeprecationWarning: Call to deprecated function stored_results. Reason: The property counterpart 'stored_results' will be added in a future release, and this method will be removed.\n",
      "  results = next(cursor.stored_results())\n"
     ]
    }
   ],
   "source": [
    "# Validate CancelBooking procedure\n",
    "# CancelBooking procedure update a new booking to the database\n",
    "try:\n",
    "    cursor.callproc('CancelBooking', [12])\n",
    "    results = next(cursor.stored_results())\n",
    "    print(\"Booking ID: \", results.fetchone()[0])\n",
    "    connection.commit()\n",
    "except Error as er:\n",
    "    print(\"Error Code \", er.errno)\n",
    "    print(\"Error Message \", er.msg)\n",
    "    "
   ]
  },
  {
   "cell_type": "code",
   "execution_count": 17,
   "id": "95fcfb01",
   "metadata": {},
   "outputs": [
    {
     "name": "stdout",
     "output_type": "stream",
     "text": [
      "Booking ID:  Booking 23 updated\n"
     ]
    },
    {
     "name": "stderr",
     "output_type": "stream",
     "text": [
      "C:\\Users\\nghia\\AppData\\Local\\Temp\\ipykernel_27640\\469404967.py:5: DeprecationWarning: Call to deprecated function stored_results. Reason: The property counterpart 'stored_results' will be added in a future release, and this method will be removed.\n",
      "  results = next(cursor.stored_results())\n"
     ]
    }
   ],
   "source": [
    "# Validate UpdateBooking procedure\n",
    "# UpdateBooking procedure update a new booking to the database\n",
    "try:\n",
    "    cursor.callproc('UpdateBooking', (23, '2022-12-20'))\n",
    "    results = next(cursor.stored_results())\n",
    "    print(\"Booking ID: \", results.fetchone()[0])\n",
    "    connection.commit()\n",
    "except Error as er:\n",
    "    print(\"Error Code \", er.errno)\n",
    "    print(\"Error Message \", er.msg)\n",
    "    \n",
    "#connection.commit()"
   ]
  },
  {
   "cell_type": "code",
   "execution_count": 15,
   "id": "be731a62",
   "metadata": {},
   "outputs": [
    {
     "name": "stdout",
     "output_type": "stream",
     "text": [
      "Booking ID:  New booking added\n"
     ]
    },
    {
     "name": "stderr",
     "output_type": "stream",
     "text": [
      "C:\\Users\\nghia\\AppData\\Local\\Temp\\ipykernel_27640\\1305561168.py:5: DeprecationWarning: Call to deprecated function stored_results. Reason: The property counterpart 'stored_results' will be added in a future release, and this method will be removed.\n",
      "  results = next(cursor.stored_results())\n"
     ]
    }
   ],
   "source": [
    "# Validate AddBooking procedure\n",
    "# AddBooking procedure adds a new booking to the database\n",
    "try:\n",
    "    cursor.callproc('AddBooking', (720557985, 8, '2023-10-20'))\n",
    "    results = next(cursor.stored_results())\n",
    "    print(\"Booking ID: \", results.fetchone()[0])\n",
    "    connection.commit()\n",
    "except Error as er:\n",
    "    print(\"Error Code \", er.errno)\n",
    "    print(\"Error Message \", er.msg)\n",
    "    \n",
    "#connection.commit()"
   ]
  },
  {
   "cell_type": "code",
   "execution_count": 18,
   "id": "08a1174e",
   "metadata": {},
   "outputs": [
    {
     "name": "stdout",
     "output_type": "stream",
     "text": [
      "Booking ID:  Table 8 is already booked.- book cancelled.\n"
     ]
    },
    {
     "name": "stderr",
     "output_type": "stream",
     "text": [
      "C:\\Users\\nghia\\AppData\\Local\\Temp\\ipykernel_27640\\3395802954.py:5: DeprecationWarning: Call to deprecated function stored_results. Reason: The property counterpart 'stored_results' will be added in a future release, and this method will be removed.\n",
      "  results = next(cursor.stored_results())\n"
     ]
    }
   ],
   "source": [
    "# Validate AddValidBooking procedure\n",
    "# If a booking is valid then add to the database otherwise return a cancel message\n",
    "try:\n",
    "    cursor.callproc('AddValidBooking', (720557985, '2022-12-20',8))\n",
    "    results = next(cursor.stored_results())\n",
    "    print(\"Booking ID: \", results.fetchone()[0])\n",
    "    connection.commit()\n",
    "except Error as er:\n",
    "    print(\"Error Code \", er.errno)\n",
    "    print(\"Error Message \", er.msg)\n",
    "    "
   ]
  }
 ],
 "metadata": {
  "kernelspec": {
   "display_name": "Python 3",
   "language": "python",
   "name": "python3"
  },
  "language_info": {
   "codemirror_mode": {
    "name": "ipython",
    "version": 3
   },
   "file_extension": ".py",
   "mimetype": "text/x-python",
   "name": "python",
   "nbconvert_exporter": "python",
   "pygments_lexer": "ipython3",
   "version": "3.13.3"
  }
 },
 "nbformat": 4,
 "nbformat_minor": 5
}
