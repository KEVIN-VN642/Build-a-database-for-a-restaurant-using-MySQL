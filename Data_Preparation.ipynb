{
 "cells": [
  {
   "cell_type": "markdown",
   "id": "e9eecd19",
   "metadata": {},
   "source": [
    "Install the mysql-connector-python and pandas"
   ]
  },
  {
   "cell_type": "code",
   "execution_count": null,
   "id": "92a4cc1d",
   "metadata": {},
   "outputs": [],
   "source": [
    "# This script is intended to be run in a Jupyter notebook or similar environment\n",
    "# You can install the required packages using pip\n",
    "# Uncomment the following line if you haven't installed the packages yet\n",
    "# !pip install openpyxl pandas mysql-connector-python"
   ]
  },
  {
   "cell_type": "code",
   "execution_count": null,
   "id": "824cf1e7",
   "metadata": {},
   "outputs": [],
   "source": [
    "import mysql.connector as connector\n",
    "import pandas as pd     \n",
    "import numpy as np"
   ]
  },
  {
   "cell_type": "code",
   "execution_count": null,
   "id": "becc3f0f",
   "metadata": {},
   "outputs": [],
   "source": [
    "# Set up the connection to the MySQL database\n",
    "try:\n",
    "    connection = connector.connect(\n",
    "        host=\"localhost\",\n",
    "        user=\"****\",\n",
    "        password=\"***\",\n",
    "        database=\"littlelemon\"\n",
    "    )\n",
    "    cursor = connection.cursor()\n",
    "except connector.Error as er:\n",
    "    print(\"Error Code \", er.errno)\n",
    "    print(\"Error Message \", er.msg)"
   ]
  },
  {
   "cell_type": "code",
   "execution_count": null,
   "id": "1945bc89",
   "metadata": {},
   "outputs": [],
   "source": [
    "# Read the Excel file and load the Orders sheet into a DataFrame\n",
    "df = pd.read_excel(\"Raw Data/LittleLemonDB.xlsx\", sheet_name=\"Orders\")"
   ]
  },
  {
   "cell_type": "code",
   "execution_count": null,
   "id": "e5fd77e9",
   "metadata": {},
   "outputs": [],
   "source": [
    "# Drop the first column\n",
    "df.drop(columns=[\"Row Number\"], inplace=True)\n",
    "\n",
    "# Rename the columns to remove leading spaces\n",
    "df.columns = df.columns.str.strip()\n",
    "\n",
    "# Drop duplicate rows based on the \"Order ID\" column\n",
    "df = df.drop_duplicates(subset = [\"Order ID\"])\n",
    "\n",
    "# Remove non-numeric characters from the Order ID column and Customer ID column then change the type to int\n",
    "df['Order ID'] = df['Order ID'].str.replace('-','').astype(int)\n",
    "df['Customer ID'] = df['Customer ID'].str.replace('-','').astype(int)"
   ]
  },
  {
   "cell_type": "code",
   "execution_count": null,
   "id": "61d9e0f4",
   "metadata": {},
   "outputs": [],
   "source": [
    "df.head(5)"
   ]
  },
  {
   "cell_type": "code",
   "execution_count": null,
   "id": "0b11f147",
   "metadata": {},
   "outputs": [],
   "source": [
    "# Check the shape of the DataFrame after dropping duplicates\n",
    "df.shape"
   ]
  },
  {
   "cell_type": "markdown",
   "id": "0d34cbe5",
   "metadata": {},
   "source": [
    "## Scope of Work\n",
    "This notebook will prcocess data from an messy Excel file then store clean datasets into the database. It is noted that the database schema already created using MySQL Workbench, so we do not create new tables here.\n",
    "We already have five tables as below and need to fill in the data for those tables:\n",
    "- Customers\n",
    "- Menu_Items\n",
    "- Deliveries\n",
    "- Orders\n",
    "- Bookings"
   ]
  },
  {
   "cell_type": "markdown",
   "id": "c1c807e7",
   "metadata": {},
   "source": [
    "### 1. Prepare data for customers table"
   ]
  },
  {
   "cell_type": "code",
   "execution_count": null,
   "id": "abd1d50d",
   "metadata": {},
   "outputs": [],
   "source": [
    "# Extract the relevant columns for customers\n",
    "customers = df[[\"Customer ID\", \"Customer Name\", \"City\", \"Country\"]].drop_duplicates()"
   ]
  },
  {
   "cell_type": "markdown",
   "id": "30a7e178",
   "metadata": {},
   "source": [
    "Create customer table and add data into table"
   ]
  },
  {
   "cell_type": "code",
   "execution_count": null,
   "id": "2730c619",
   "metadata": {},
   "outputs": [],
   "source": [
    "\n",
    "# Insert data into the customers table\n",
    "for i, row in customers.iterrows():\n",
    "    sql = \"insert into customers (CustomerID, Name, City, Country) values (%s, %s, %s, %s)\"\n",
    "    cursor.execute(sql,tuple(row))\n",
    "\n",
    "connection.commit()"
   ]
  },
  {
   "cell_type": "markdown",
   "id": "e4252099",
   "metadata": {},
   "source": [
    "### 2. Prepare data for menu_items table"
   ]
  },
  {
   "cell_type": "code",
   "execution_count": null,
   "id": "927182ec",
   "metadata": {},
   "outputs": [],
   "source": [
    "# Create a MenuItems data frame\n",
    "menu_items = df[[\"Course Name\", \"Starter Name\", \"Desert Name\", \"Drink\", \"Sides\"]].drop_duplicates()"
   ]
  },
  {
   "cell_type": "code",
   "execution_count": null,
   "id": "63f3d897",
   "metadata": {},
   "outputs": [],
   "source": [
    "# Add a new column \"MenuItemID\" to the menu_items DataFrame\n",
    "menu_items.insert(0, \"MenuItemID\", range(1, len(menu_items) + 1))\n",
    "menu_items"
   ]
  },
  {
   "cell_type": "code",
   "execution_count": 190,
   "id": "3f91bffa",
   "metadata": {},
   "outputs": [],
   "source": [
    "\n",
    "# Insert data into the menu_items table\n",
    "for i, row in menu_items.iterrows():\n",
    "    sql = \"insert into menu_items (Menu_Items_ID,CourseName, StarterName, DesertName, Drink, Sides) values (%s, %s, %s, %s, %s, %s)\"\n",
    "    cursor.execute(sql, tuple(row))\n",
    "\n",
    "connection.commit()\n"
   ]
  },
  {
   "cell_type": "code",
   "execution_count": 191,
   "id": "ef151cf9",
   "metadata": {},
   "outputs": [],
   "source": [
    "# Merge df with menu_items to get MenuItemID to create foreign key relationship\n",
    "df = df.merge(menu_items, how=\"left\", on=[\"Course Name\", \"Starter Name\", \"Desert Name\", \"Drink\", \"Sides\"])"
   ]
  },
  {
   "cell_type": "code",
   "execution_count": 193,
   "id": "9f9a4b34",
   "metadata": {},
   "outputs": [
    {
     "name": "stdout",
     "output_type": "stream",
     "text": [
      "       Desert Name              Drink         Sides  MenuItemID\n",
      "0    Greek yoghurt  Athens White wine         Tapas           1\n",
      "1        Ice cream     Corfu Red Wine  Potato salad           2\n",
      "2       Cheesecake     Italian Coffee    Bruschetta           3\n",
      "3         Affogato      Roma Red wine      Focaccia           4\n",
      "4  Turkish yoghurt  Ankara White Wine     Meatballs           5\n",
      "5          Baklava     Turkish Coffee         Fries           6\n",
      "6    Greek yoghurt  Athens White wine         Tapas           1\n",
      "7        Ice cream     Corfu Red Wine  Potato salad           2\n",
      "8       Cheesecake     Italian Coffee    Bruschetta           3\n",
      "9         Affogato      Roma Red wine      Focaccia           4\n"
     ]
    }
   ],
   "source": [
    "pd.set_option('display.max_rows', None)\n",
    "pd.set_option('display.max_columns', None)\n",
    "print(df.head(10).iloc[:, -4:])"
   ]
  },
  {
   "cell_type": "markdown",
   "id": "d48b9bcc",
   "metadata": {},
   "source": [
    "### 3. Prepare data for Order table"
   ]
  },
  {
   "cell_type": "code",
   "execution_count": 194,
   "id": "f02d64b0",
   "metadata": {},
   "outputs": [],
   "source": [
    "# Create Orders data frame\n",
    "Orders = df[[\"Order ID\", \"Order Date\", \"Customer ID\", \"Cost\", \"Sales\", \"Discount\", \"MenuItemID\", \"Quantity\"]].drop_duplicates()"
   ]
  },
  {
   "cell_type": "code",
   "execution_count": 195,
   "id": "2a0de25d",
   "metadata": {},
   "outputs": [
    {
     "name": "stdout",
     "output_type": "stream",
     "text": [
      "<class 'pandas._libs.tslibs.timestamps.Timestamp'>\n"
     ]
    }
   ],
   "source": [
    "# Check data types of the Order Date column\n",
    "print(type(Orders[\"Order Date\"][0]))\n",
    "\n",
    "# Convert the Order Date to a string in the format YYYY-MM-DD\n",
    "Orders[\"Order Date\"] = Orders[\"Order Date\"].dt.strftime('%Y-%m-%d')"
   ]
  },
  {
   "cell_type": "code",
   "execution_count": 196,
   "id": "b3243fd1",
   "metadata": {},
   "outputs": [],
   "source": [
    "\n",
    "# Insert data into the orders table\n",
    "for i, row in Orders.iterrows():\n",
    "    sql = \"insert into orders (OrderID, OrderDate, CustomerID, Cost, Sales, Discount, MenuItemID, Quantity) values (%s, %s, %s, %s, %s, %s, %s, %s)\"\n",
    "    cursor.execute(sql, tuple(row))"
   ]
  },
  {
   "cell_type": "code",
   "execution_count": 197,
   "id": "bf4493e9",
   "metadata": {},
   "outputs": [],
   "source": [
    "connection.commit()"
   ]
  },
  {
   "cell_type": "markdown",
   "id": "0f525c91",
   "metadata": {},
   "source": [
    "### 4. Prepare data for deliveries table"
   ]
  },
  {
   "cell_type": "code",
   "execution_count": 205,
   "id": "454f7fc7",
   "metadata": {},
   "outputs": [],
   "source": [
    "# Extract the relevant columns for Deliveries\n",
    "deliveries = df[[\"Delivery Date\", \"Order ID\"]].drop_duplicates()"
   ]
  },
  {
   "cell_type": "code",
   "execution_count": 206,
   "id": "d1e36fc6",
   "metadata": {},
   "outputs": [],
   "source": [
    "# Convert the Order Date to a string in the format YYYY-MM-DD\n",
    "deliveries[\"Delivery Date\"] = deliveries[\"Delivery Date\"].dt.strftime('%Y-%m-%d')"
   ]
  },
  {
   "cell_type": "code",
   "execution_count": 207,
   "id": "e230e08b",
   "metadata": {},
   "outputs": [],
   "source": [
    "# Delivery status is not in the original data, so we will create a new column with \n",
    "# random value of \"Not initiate\", \"Delivered\", \"In Progress\", \"Cancelled\"\n",
    "status = [\"Not initiate\", \"Delivered\", \"In Progress\", \"Cancelled\"]\n",
    "deliveries[\"Delivery Status\"] = np.random.choice(status, size=len(deliveries))\n",
    "deliveries[\"Deliveries_ID\"] = range(1, len(deliveries) + 1)"
   ]
  },
  {
   "cell_type": "code",
   "execution_count": 208,
   "id": "cef6c206",
   "metadata": {},
   "outputs": [
    {
     "data": {
      "text/html": [
       "<div>\n",
       "<style scoped>\n",
       "    .dataframe tbody tr th:only-of-type {\n",
       "        vertical-align: middle;\n",
       "    }\n",
       "\n",
       "    .dataframe tbody tr th {\n",
       "        vertical-align: top;\n",
       "    }\n",
       "\n",
       "    .dataframe thead th {\n",
       "        text-align: right;\n",
       "    }\n",
       "</style>\n",
       "<table border=\"1\" class=\"dataframe\">\n",
       "  <thead>\n",
       "    <tr style=\"text-align: right;\">\n",
       "      <th></th>\n",
       "      <th>Delivery Date</th>\n",
       "      <th>Order ID</th>\n",
       "      <th>Delivery Status</th>\n",
       "      <th>Deliveries_ID</th>\n",
       "    </tr>\n",
       "  </thead>\n",
       "  <tbody>\n",
       "    <tr>\n",
       "      <th>0</th>\n",
       "      <td>2020-03-26</td>\n",
       "      <td>543666861</td>\n",
       "      <td>In Progress</td>\n",
       "      <td>1</td>\n",
       "    </tr>\n",
       "    <tr>\n",
       "      <th>1</th>\n",
       "      <td>2020-07-17</td>\n",
       "      <td>637613686</td>\n",
       "      <td>Not initiate</td>\n",
       "      <td>2</td>\n",
       "    </tr>\n",
       "    <tr>\n",
       "      <th>2</th>\n",
       "      <td>2020-04-24</td>\n",
       "      <td>653516434</td>\n",
       "      <td>Not initiate</td>\n",
       "      <td>3</td>\n",
       "    </tr>\n",
       "    <tr>\n",
       "      <th>3</th>\n",
       "      <td>2020-04-13</td>\n",
       "      <td>369172834</td>\n",
       "      <td>Cancelled</td>\n",
       "      <td>4</td>\n",
       "    </tr>\n",
       "    <tr>\n",
       "      <th>4</th>\n",
       "      <td>2021-02-02</td>\n",
       "      <td>861149232</td>\n",
       "      <td>Not initiate</td>\n",
       "      <td>5</td>\n",
       "    </tr>\n",
       "  </tbody>\n",
       "</table>\n",
       "</div>"
      ],
      "text/plain": [
       "  Delivery Date   Order ID Delivery Status  Deliveries_ID\n",
       "0    2020-03-26  543666861     In Progress              1\n",
       "1    2020-07-17  637613686    Not initiate              2\n",
       "2    2020-04-24  653516434    Not initiate              3\n",
       "3    2020-04-13  369172834       Cancelled              4\n",
       "4    2021-02-02  861149232    Not initiate              5"
      ]
     },
     "execution_count": 208,
     "metadata": {},
     "output_type": "execute_result"
    }
   ],
   "source": [
    "deliveries.head(5)"
   ]
  },
  {
   "cell_type": "code",
   "execution_count": 209,
   "id": "dea50691",
   "metadata": {},
   "outputs": [],
   "source": [
    "# Insert data into the deliveries table\n",
    "for i, row in deliveries.iterrows():\n",
    "    sql = \"insert into deliveries (DeliveryDate, OrderID, DeliveryStatus, Deliveries_ID) values (%s, %s, %s, %s)\"\n",
    "    cursor.execute(sql, tuple(row))\n"
   ]
  },
  {
   "cell_type": "code",
   "execution_count": 210,
   "id": "c35e05cf",
   "metadata": {},
   "outputs": [],
   "source": [
    "connection.commit()"
   ]
  },
  {
   "cell_type": "markdown",
   "id": "5a8cd309",
   "metadata": {},
   "source": [
    "### 5.Prepare data for Booking table"
   ]
  },
  {
   "cell_type": "code",
   "execution_count": 211,
   "id": "27a10c2e",
   "metadata": {},
   "outputs": [],
   "source": [
    "# Create Bookings data frame\n",
    "bookings = df[[\"Customer ID\"]][:20].drop_duplicates()"
   ]
  },
  {
   "cell_type": "code",
   "execution_count": 212,
   "id": "e3db7f5c",
   "metadata": {},
   "outputs": [],
   "source": [
    "bookings['BookingID'] = range(1, len(bookings) + 1)\n",
    "bookings['BookingDate'] = pd.to_datetime('2023-10-01') + pd.to_timedelta(np.random.randint(0, 30, size=len(bookings)), unit='d')\n",
    "bookings['TableNo'] = np.random.randint(1, 11, size=len(bookings))"
   ]
  },
  {
   "cell_type": "code",
   "execution_count": 213,
   "id": "7147191c",
   "metadata": {},
   "outputs": [
    {
     "data": {
      "text/html": [
       "<div>\n",
       "<style scoped>\n",
       "    .dataframe tbody tr th:only-of-type {\n",
       "        vertical-align: middle;\n",
       "    }\n",
       "\n",
       "    .dataframe tbody tr th {\n",
       "        vertical-align: top;\n",
       "    }\n",
       "\n",
       "    .dataframe thead th {\n",
       "        text-align: right;\n",
       "    }\n",
       "</style>\n",
       "<table border=\"1\" class=\"dataframe\">\n",
       "  <thead>\n",
       "    <tr style=\"text-align: right;\">\n",
       "      <th></th>\n",
       "      <th>BookingID</th>\n",
       "      <th>Customer ID</th>\n",
       "      <th>BookingDate</th>\n",
       "      <th>TableNo</th>\n",
       "    </tr>\n",
       "  </thead>\n",
       "  <tbody>\n",
       "    <tr>\n",
       "      <th>0</th>\n",
       "      <td>1</td>\n",
       "      <td>720557985</td>\n",
       "      <td>2023-10-19</td>\n",
       "      <td>8</td>\n",
       "    </tr>\n",
       "    <tr>\n",
       "      <th>1</th>\n",
       "      <td>2</td>\n",
       "      <td>653530657</td>\n",
       "      <td>2023-10-09</td>\n",
       "      <td>4</td>\n",
       "    </tr>\n",
       "    <tr>\n",
       "      <th>2</th>\n",
       "      <td>3</td>\n",
       "      <td>908766799</td>\n",
       "      <td>2023-10-02</td>\n",
       "      <td>6</td>\n",
       "    </tr>\n",
       "    <tr>\n",
       "      <th>3</th>\n",
       "      <td>4</td>\n",
       "      <td>738734827</td>\n",
       "      <td>2023-10-04</td>\n",
       "      <td>2</td>\n",
       "    </tr>\n",
       "    <tr>\n",
       "      <th>4</th>\n",
       "      <td>5</td>\n",
       "      <td>809275246</td>\n",
       "      <td>2023-10-10</td>\n",
       "      <td>3</td>\n",
       "    </tr>\n",
       "  </tbody>\n",
       "</table>\n",
       "</div>"
      ],
      "text/plain": [
       "   BookingID  Customer ID BookingDate  TableNo\n",
       "0          1    720557985  2023-10-19        8\n",
       "1          2    653530657  2023-10-09        4\n",
       "2          3    908766799  2023-10-02        6\n",
       "3          4    738734827  2023-10-04        2\n",
       "4          5    809275246  2023-10-10        3"
      ]
     },
     "execution_count": 213,
     "metadata": {},
     "output_type": "execute_result"
    }
   ],
   "source": [
    "# Rearrange the columns to match the database schema\n",
    "bookings = bookings.reindex(columns=[\"BookingID\", \"Customer ID\", \"BookingDate\", \"TableNo\"])\n",
    "bookings.head(5)"
   ]
  },
  {
   "cell_type": "code",
   "execution_count": 214,
   "id": "ff56b104",
   "metadata": {},
   "outputs": [],
   "source": [
    "# Convert the Booking Date to a string in the format YYYY-MM-DD\n",
    "bookings[\"BookingDate\"] = bookings[\"BookingDate\"].dt.strftime('%Y-%m-%d')"
   ]
  },
  {
   "cell_type": "code",
   "execution_count": 215,
   "id": "137551a3",
   "metadata": {},
   "outputs": [],
   "source": [
    "# Insert data into the bookings table\n",
    "for i, row in bookings.iterrows():\n",
    "    sql = \"insert into bookings (BookingID, CustomerID, BookingDate, TableNo) values (%s, %s, %s, %s)\"\n",
    "    cursor.execute(sql, tuple(row))"
   ]
  },
  {
   "cell_type": "code",
   "execution_count": 216,
   "id": "513541df",
   "metadata": {},
   "outputs": [],
   "source": [
    "connection.commit()"
   ]
  },
  {
   "cell_type": "code",
   "execution_count": 217,
   "id": "0ad1a84b",
   "metadata": {},
   "outputs": [],
   "source": [
    "connection.close()"
   ]
  },
  {
   "cell_type": "markdown",
   "id": "2dd7e8dc",
   "metadata": {},
   "source": [
    "The database is ready for experiment and analysis."
   ]
  }
 ],
 "metadata": {
  "kernelspec": {
   "display_name": "Python 3",
   "language": "python",
   "name": "python3"
  },
  "language_info": {
   "codemirror_mode": {
    "name": "ipython",
    "version": 3
   },
   "file_extension": ".py",
   "mimetype": "text/x-python",
   "name": "python",
   "nbconvert_exporter": "python",
   "pygments_lexer": "ipython3",
   "version": "3.13.3"
  }
 },
 "nbformat": 4,
 "nbformat_minor": 5
}
