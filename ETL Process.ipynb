{
 "cells": [
  {
   "cell_type": "markdown",
   "id": "e9eecd19",
   "metadata": {},
   "source": [
    "Install the mysql-connector-python and pandas"
   ]
  },
  {
   "cell_type": "markdown",
   "id": "ced24512",
   "metadata": {},
   "source": [
    "### Introduction\n",
    "This notebook perform an ETL process, it start with get data from Excel file then transform data then generate relevant dataframes. After that clean data will load into corresponding tables in MySQL database."
   ]
  },
  {
   "cell_type": "code",
   "execution_count": 1,
   "id": "92a4cc1d",
   "metadata": {},
   "outputs": [],
   "source": [
    "# This script is intended to be run in a Jupyter notebook or similar environment\n",
    "# You can install the required packages using pip\n",
    "# Uncomment the following line if you haven't installed the packages yet\n",
    "# !pip install openpyxl pandas mysql-connector-python"
   ]
  },
  {
   "cell_type": "code",
   "execution_count": 2,
   "id": "824cf1e7",
   "metadata": {},
   "outputs": [],
   "source": [
    "# Import necessary libraries\n",
    "import openpyxl\n",
    "import mysql.connector as connector\n",
    "import pandas as pd     \n",
    "import numpy as np"
   ]
  },
  {
   "cell_type": "code",
   "execution_count": 3,
   "id": "becc3f0f",
   "metadata": {},
   "outputs": [],
   "source": [
    "# Set up the connection to the MySQL database\n",
    "try:\n",
    "    connection = connector.connect(\n",
    "        host=\"localhost\",\n",
    "        user=\"root\",\n",
    "        password=\"thanhhoa\",\n",
    "        database=\"littlelemon\"\n",
    "    )\n",
    "    cursor = connection.cursor()\n",
    "except connector.Error as er:\n",
    "    print(\"Error Code \", er.errno)\n",
    "    print(\"Error Message \", er.msg)"
   ]
  },
  {
   "cell_type": "markdown",
   "id": "0a574d02",
   "metadata": {},
   "source": [
    "### 1. Get data from Excel file source and perform initial cleaning"
   ]
  },
  {
   "cell_type": "code",
   "execution_count": 4,
   "id": "1945bc89",
   "metadata": {},
   "outputs": [],
   "source": [
    "# Read the Excel file and load the Orders sheet into a DataFrame\n",
    "df = pd.read_excel(\"Raw Data/LittleLemonDB.xlsx\", sheet_name=\"Orders\")"
   ]
  },
  {
   "cell_type": "markdown",
   "id": "5940f7e0",
   "metadata": {},
   "source": [
    "Perform some initial cleaning"
   ]
  },
  {
   "cell_type": "code",
   "execution_count": null,
   "id": "e5fd77e9",
   "metadata": {},
   "outputs": [],
   "source": [
    "# Drop the first column\n",
    "df.drop(columns=[\"Row Number\"], inplace=True)\n",
    "\n",
    "# Rename the columns to remove leading spaces\n",
    "df.columns = df.columns.str.strip()\n",
    "\n",
    "# Drop duplicate rows based on the \"Order ID\" column\n",
    "df = df.drop_duplicates(subset = [\"Order ID\"])\n",
    "\n",
    "# Remove non-numeric characters from the Order ID column and Customer ID column then change the type to int\n",
    "df['Order ID'] = df['Order ID'].str.replace('-','').astype(int)\n",
    "df['Customer ID'] = df['Customer ID'].str.replace('-','').astype(int)"
   ]
  },
  {
   "cell_type": "code",
   "execution_count": 5,
   "id": "bc33575b",
   "metadata": {},
   "outputs": [
    {
     "name": "stdout",
     "output_type": "stream",
     "text": [
      "The first 5 rows of the dataset:\n",
      "   Row Number     Order ID Order Date Delivery Date  Customer ID  \\\n",
      "0           1  54-366-6861 2020-06-15    2020-03-26  72-055-7985   \n",
      "1           2  63-761-3686 2020-08-25    2020-07-17  65-353-0657   \n",
      "2           3  65-351-6434 2021-08-17    2020-04-24  90-876-6799   \n",
      "3           4  36-917-2834 2021-08-14    2020-04-13  73-873-4827   \n",
      "4           5  86-114-9232 2020-12-20    2021-02-02  80-927-5246   \n",
      "\n",
      "     Customer Name        City      Country Postal Code Country Code  ...  \\\n",
      "0     Laney Fadden    Daruoyan        China    993-0031           CN  ...   \n",
      "1  Giacopo Bramich      Ongjin  North Korea      216282           KP  ...   \n",
      "2        Lia Bonar  Quince Mil         Peru      663246           PE  ...   \n",
      "3   Merrill Baudon      Susaki        Japan    987-0352           JP  ...   \n",
      "4     Tasia Fautly      Tobruk        Libya      351 01           LY  ...   \n",
      "\n",
      "   Sales  Quantity  Discount  Delivery Cost  Course Name Cuisine Name  \\\n",
      "0  187.5         2     20.00          60.51  Greek salad        Greek   \n",
      "1  352.5         1     15.00          96.75    Bean soup      Italian   \n",
      "2  112.5         3     10.52          36.37        Pizza      Italian   \n",
      "3  330.0         3     11.23           5.49    Carbonara      Turkish   \n",
      "4  480.0         2     51.05          63.64       Kabasa        Greek   \n",
      "\n",
      "   Starter Name      Desert Name              Drink         Sides  \n",
      "0        Olives    Greek yoghurt  Athens White wine         Tapas  \n",
      "1     Flatbread        Ice cream     Corfu Red Wine  Potato salad  \n",
      "2    Minestrone       Cheesecake     Italian Coffee    Bruschetta  \n",
      "3  Tomato bread         Affogato      Roma Red wine      Focaccia  \n",
      "4       Falafel  Turkish yoghurt  Ankara White Wine     Meatballs  \n",
      "\n",
      "[5 rows x 21 columns]\n",
      "The shape of the dataset:\n",
      "(21000, 21)\n"
     ]
    }
   ],
   "source": [
    "# Viewing few first rows in dataset\n",
    "print(\"The first 5 rows of the dataset:\")\n",
    "print(df.head(5))\n",
    "\n",
    "# Check shape of dataset\n",
    "print(\"The shape of the dataset:\")\n",
    "print(df.shape)\n"
   ]
  },
  {
   "cell_type": "markdown",
   "id": "0d34cbe5",
   "metadata": {},
   "source": [
    "### 2. Extract relevant data for each table then load to MySQL database\n",
    "It is noted that the database schema already created using MySQL Workbench, so we do not create new tables here.\n",
    "The database schema already has five tables as below and only need to fill in the data for those tables:\n",
    "- Customers\n",
    "- Menu_Items\n",
    "- Deliveries\n",
    "- Orders\n",
    "- Bookings"
   ]
  },
  {
   "cell_type": "markdown",
   "id": "c1c807e7",
   "metadata": {},
   "source": [
    "#### 2.1 Prepare data for customers table"
   ]
  },
  {
   "cell_type": "code",
   "execution_count": 6,
   "id": "abd1d50d",
   "metadata": {},
   "outputs": [],
   "source": [
    "# Extract the relevant columns for customers\n",
    "customers = df[[\"Customer ID\", \"Customer Name\", \"City\", \"Country\"]].drop_duplicates()"
   ]
  },
  {
   "cell_type": "markdown",
   "id": "30a7e178",
   "metadata": {},
   "source": [
    "Create customer table and add data into table"
   ]
  },
  {
   "cell_type": "code",
   "execution_count": null,
   "id": "2730c619",
   "metadata": {},
   "outputs": [],
   "source": [
    "\n",
    "# Insert data into the customers table\n",
    "for i, row in customers.iterrows():\n",
    "    sql = \"insert into customers (CustomerID, Name, City, Country) values (%s, %s, %s, %s)\"\n",
    "    cursor.execute(sql,tuple(row))\n",
    "\n",
    "connection.commit()"
   ]
  },
  {
   "cell_type": "markdown",
   "id": "e4252099",
   "metadata": {},
   "source": [
    "#### 2.2 Prepare data for menu_items table"
   ]
  },
  {
   "cell_type": "code",
   "execution_count": null,
   "id": "927182ec",
   "metadata": {},
   "outputs": [],
   "source": [
    "# Create a MenuItems data frame\n",
    "menu_items = df[[\"Course Name\", \"Starter Name\", \"Desert Name\", \"Drink\", \"Sides\"]].drop_duplicates()"
   ]
  },
  {
   "cell_type": "code",
   "execution_count": null,
   "id": "63f3d897",
   "metadata": {},
   "outputs": [],
   "source": [
    "# Add a new column \"MenuItemID\" to the menu_items DataFrame\n",
    "menu_items.insert(0, \"MenuItemID\", range(1, len(menu_items) + 1))\n",
    "menu_items"
   ]
  },
  {
   "cell_type": "code",
   "execution_count": 190,
   "id": "3f91bffa",
   "metadata": {},
   "outputs": [],
   "source": [
    "\n",
    "# Insert data into the menu_items table\n",
    "for i, row in menu_items.iterrows():\n",
    "    sql = \"insert into menu_items (Menu_Items_ID,CourseName, StarterName, DesertName, Drink, Sides) values (%s, %s, %s, %s, %s, %s)\"\n",
    "    cursor.execute(sql, tuple(row))\n",
    "\n",
    "connection.commit()\n"
   ]
  },
  {
   "cell_type": "code",
   "execution_count": 191,
   "id": "ef151cf9",
   "metadata": {},
   "outputs": [],
   "source": [
    "# Merge df with menu_items to get MenuItemID to create foreign key relationship\n",
    "df = df.merge(menu_items, how=\"left\", on=[\"Course Name\", \"Starter Name\", \"Desert Name\", \"Drink\", \"Sides\"])"
   ]
  },
  {
   "cell_type": "code",
   "execution_count": null,
   "id": "9f9a4b34",
   "metadata": {},
   "outputs": [
    {
     "name": "stdout",
     "output_type": "stream",
     "text": [
      "       Desert Name              Drink         Sides  MenuItemID\n",
      "0    Greek yoghurt  Athens White wine         Tapas           1\n",
      "1        Ice cream     Corfu Red Wine  Potato salad           2\n",
      "2       Cheesecake     Italian Coffee    Bruschetta           3\n",
      "3         Affogato      Roma Red wine      Focaccia           4\n",
      "4  Turkish yoghurt  Ankara White Wine     Meatballs           5\n",
      "5          Baklava     Turkish Coffee         Fries           6\n",
      "6    Greek yoghurt  Athens White wine         Tapas           1\n",
      "7        Ice cream     Corfu Red Wine  Potato salad           2\n",
      "8       Cheesecake     Italian Coffee    Bruschetta           3\n",
      "9         Affogato      Roma Red wine      Focaccia           4\n"
     ]
    }
   ],
   "source": [
    "# Printout the first 10 rows of the merged DataFrame to check the foreign key relationship\n",
    "pd.set_option('display.max_rows', None)\n",
    "pd.set_option('display.max_columns', None)\n",
    "print(df.head(10).iloc[:, -4:])"
   ]
  },
  {
   "cell_type": "markdown",
   "id": "d48b9bcc",
   "metadata": {},
   "source": [
    "#### 2.3 Prepare data for Order table"
   ]
  },
  {
   "cell_type": "code",
   "execution_count": 194,
   "id": "f02d64b0",
   "metadata": {},
   "outputs": [],
   "source": [
    "# Create Orders data frame\n",
    "Orders = df[[\"Order ID\", \"Order Date\", \"Customer ID\", \"Cost\", \"Sales\", \"Discount\", \"MenuItemID\", \"Quantity\"]].drop_duplicates()"
   ]
  },
  {
   "cell_type": "code",
   "execution_count": 195,
   "id": "2a0de25d",
   "metadata": {},
   "outputs": [
    {
     "name": "stdout",
     "output_type": "stream",
     "text": [
      "<class 'pandas._libs.tslibs.timestamps.Timestamp'>\n"
     ]
    }
   ],
   "source": [
    "# Check data types of the Order Date column\n",
    "print(type(Orders[\"Order Date\"][0]))\n",
    "\n",
    "# Convert the Order Date to a string in the format YYYY-MM-DD\n",
    "Orders[\"Order Date\"] = Orders[\"Order Date\"].dt.strftime('%Y-%m-%d')"
   ]
  },
  {
   "cell_type": "code",
   "execution_count": 196,
   "id": "b3243fd1",
   "metadata": {},
   "outputs": [],
   "source": [
    "\n",
    "# Insert data into the orders table\n",
    "for i, row in Orders.iterrows():\n",
    "    sql = \"insert into orders (OrderID, OrderDate, CustomerID, Cost, Sales, Discount, MenuItemID, Quantity) values (%s, %s, %s, %s, %s, %s, %s, %s)\"\n",
    "    cursor.execute(sql, tuple(row))"
   ]
  },
  {
   "cell_type": "code",
   "execution_count": null,
   "id": "bf4493e9",
   "metadata": {},
   "outputs": [],
   "source": [
    "# Make persistent changes to the database\n",
    "connection.commit()"
   ]
  },
  {
   "cell_type": "markdown",
   "id": "0f525c91",
   "metadata": {},
   "source": [
    "### 2.4 Prepare data for deliveries table"
   ]
  },
  {
   "cell_type": "code",
   "execution_count": 205,
   "id": "454f7fc7",
   "metadata": {},
   "outputs": [],
   "source": [
    "# Extract the relevant columns for Deliveries\n",
    "deliveries = df[[\"Delivery Date\", \"Order ID\"]].drop_duplicates()"
   ]
  },
  {
   "cell_type": "code",
   "execution_count": 206,
   "id": "d1e36fc6",
   "metadata": {},
   "outputs": [],
   "source": [
    "# Convert the Order Date to a string in the format YYYY-MM-DD\n",
    "deliveries[\"Delivery Date\"] = deliveries[\"Delivery Date\"].dt.strftime('%Y-%m-%d')"
   ]
  },
  {
   "cell_type": "code",
   "execution_count": 207,
   "id": "e230e08b",
   "metadata": {},
   "outputs": [],
   "source": [
    "# Delivery status is not in the original data, so we will create a new column with \n",
    "# random value of \"Not initiate\", \"Delivered\", \"In Progress\", \"Cancelled\"\n",
    "status = [\"Not initiate\", \"Delivered\", \"In Progress\", \"Cancelled\"]\n",
    "deliveries[\"Delivery Status\"] = np.random.choice(status, size=len(deliveries))\n",
    "deliveries[\"Deliveries_ID\"] = range(1, len(deliveries) + 1)"
   ]
  },
  {
   "cell_type": "code",
   "execution_count": null,
   "id": "cef6c206",
   "metadata": {},
   "outputs": [
    {
     "data": {
      "text/html": [
       "<div>\n",
       "<style scoped>\n",
       "    .dataframe tbody tr th:only-of-type {\n",
       "        vertical-align: middle;\n",
       "    }\n",
       "\n",
       "    .dataframe tbody tr th {\n",
       "        vertical-align: top;\n",
       "    }\n",
       "\n",
       "    .dataframe thead th {\n",
       "        text-align: right;\n",
       "    }\n",
       "</style>\n",
       "<table border=\"1\" class=\"dataframe\">\n",
       "  <thead>\n",
       "    <tr style=\"text-align: right;\">\n",
       "      <th></th>\n",
       "      <th>Delivery Date</th>\n",
       "      <th>Order ID</th>\n",
       "      <th>Delivery Status</th>\n",
       "      <th>Deliveries_ID</th>\n",
       "    </tr>\n",
       "  </thead>\n",
       "  <tbody>\n",
       "    <tr>\n",
       "      <th>0</th>\n",
       "      <td>2020-03-26</td>\n",
       "      <td>543666861</td>\n",
       "      <td>In Progress</td>\n",
       "      <td>1</td>\n",
       "    </tr>\n",
       "    <tr>\n",
       "      <th>1</th>\n",
       "      <td>2020-07-17</td>\n",
       "      <td>637613686</td>\n",
       "      <td>Not initiate</td>\n",
       "      <td>2</td>\n",
       "    </tr>\n",
       "    <tr>\n",
       "      <th>2</th>\n",
       "      <td>2020-04-24</td>\n",
       "      <td>653516434</td>\n",
       "      <td>Not initiate</td>\n",
       "      <td>3</td>\n",
       "    </tr>\n",
       "    <tr>\n",
       "      <th>3</th>\n",
       "      <td>2020-04-13</td>\n",
       "      <td>369172834</td>\n",
       "      <td>Cancelled</td>\n",
       "      <td>4</td>\n",
       "    </tr>\n",
       "    <tr>\n",
       "      <th>4</th>\n",
       "      <td>2021-02-02</td>\n",
       "      <td>861149232</td>\n",
       "      <td>Not initiate</td>\n",
       "      <td>5</td>\n",
       "    </tr>\n",
       "  </tbody>\n",
       "</table>\n",
       "</div>"
      ],
      "text/plain": [
       "  Delivery Date   Order ID Delivery Status  Deliveries_ID\n",
       "0    2020-03-26  543666861     In Progress              1\n",
       "1    2020-07-17  637613686    Not initiate              2\n",
       "2    2020-04-24  653516434    Not initiate              3\n",
       "3    2020-04-13  369172834       Cancelled              4\n",
       "4    2021-02-02  861149232    Not initiate              5"
      ]
     },
     "execution_count": 208,
     "metadata": {},
     "output_type": "execute_result"
    }
   ],
   "source": [
    "# View the first 5 rows of the deliveries DataFrame\n",
    "print(\"The first 5 rows of the deliveries DataFrame:\")\n",
    "deliveries.head(5)"
   ]
  },
  {
   "cell_type": "code",
   "execution_count": 209,
   "id": "dea50691",
   "metadata": {},
   "outputs": [],
   "source": [
    "# Insert data into the deliveries table\n",
    "for i, row in deliveries.iterrows():\n",
    "    sql = \"insert into deliveries (DeliveryDate, OrderID, DeliveryStatus, Deliveries_ID) values (%s, %s, %s, %s)\"\n",
    "    cursor.execute(sql, tuple(row))\n"
   ]
  },
  {
   "cell_type": "code",
   "execution_count": null,
   "id": "c35e05cf",
   "metadata": {},
   "outputs": [],
   "source": [
    "# Update persistent changes to the database\n",
    "connection.commit()"
   ]
  },
  {
   "cell_type": "markdown",
   "id": "5a8cd309",
   "metadata": {},
   "source": [
    "#### 2.5Prepare data for Booking table\n",
    "Source table do not have information about booking system, so simulated data is used instead."
   ]
  },
  {
   "cell_type": "code",
   "execution_count": 211,
   "id": "27a10c2e",
   "metadata": {},
   "outputs": [],
   "source": [
    "# Create Bookings data frame\n",
    "bookings = df[[\"Customer ID\"]][:20].drop_duplicates()"
   ]
  },
  {
   "cell_type": "code",
   "execution_count": null,
   "id": "e3db7f5c",
   "metadata": {},
   "outputs": [],
   "source": [
    "# Add BookingID and TableNo columns, format BookingDate\n",
    "bookings['BookingID'] = range(1, len(bookings) + 1)\n",
    "bookings['BookingDate'] = pd.to_datetime('2023-10-01') + pd.to_timedelta(np.random.randint(0, 30, size=len(bookings)), unit='d')\n",
    "bookings['TableNo'] = np.random.randint(1, 11, size=len(bookings))"
   ]
  },
  {
   "cell_type": "code",
   "execution_count": 213,
   "id": "7147191c",
   "metadata": {},
   "outputs": [
    {
     "data": {
      "text/html": [
       "<div>\n",
       "<style scoped>\n",
       "    .dataframe tbody tr th:only-of-type {\n",
       "        vertical-align: middle;\n",
       "    }\n",
       "\n",
       "    .dataframe tbody tr th {\n",
       "        vertical-align: top;\n",
       "    }\n",
       "\n",
       "    .dataframe thead th {\n",
       "        text-align: right;\n",
       "    }\n",
       "</style>\n",
       "<table border=\"1\" class=\"dataframe\">\n",
       "  <thead>\n",
       "    <tr style=\"text-align: right;\">\n",
       "      <th></th>\n",
       "      <th>BookingID</th>\n",
       "      <th>Customer ID</th>\n",
       "      <th>BookingDate</th>\n",
       "      <th>TableNo</th>\n",
       "    </tr>\n",
       "  </thead>\n",
       "  <tbody>\n",
       "    <tr>\n",
       "      <th>0</th>\n",
       "      <td>1</td>\n",
       "      <td>720557985</td>\n",
       "      <td>2023-10-19</td>\n",
       "      <td>8</td>\n",
       "    </tr>\n",
       "    <tr>\n",
       "      <th>1</th>\n",
       "      <td>2</td>\n",
       "      <td>653530657</td>\n",
       "      <td>2023-10-09</td>\n",
       "      <td>4</td>\n",
       "    </tr>\n",
       "    <tr>\n",
       "      <th>2</th>\n",
       "      <td>3</td>\n",
       "      <td>908766799</td>\n",
       "      <td>2023-10-02</td>\n",
       "      <td>6</td>\n",
       "    </tr>\n",
       "    <tr>\n",
       "      <th>3</th>\n",
       "      <td>4</td>\n",
       "      <td>738734827</td>\n",
       "      <td>2023-10-04</td>\n",
       "      <td>2</td>\n",
       "    </tr>\n",
       "    <tr>\n",
       "      <th>4</th>\n",
       "      <td>5</td>\n",
       "      <td>809275246</td>\n",
       "      <td>2023-10-10</td>\n",
       "      <td>3</td>\n",
       "    </tr>\n",
       "  </tbody>\n",
       "</table>\n",
       "</div>"
      ],
      "text/plain": [
       "   BookingID  Customer ID BookingDate  TableNo\n",
       "0          1    720557985  2023-10-19        8\n",
       "1          2    653530657  2023-10-09        4\n",
       "2          3    908766799  2023-10-02        6\n",
       "3          4    738734827  2023-10-04        2\n",
       "4          5    809275246  2023-10-10        3"
      ]
     },
     "execution_count": 213,
     "metadata": {},
     "output_type": "execute_result"
    }
   ],
   "source": [
    "# Rearrange the columns to match the database schema\n",
    "bookings = bookings.reindex(columns=[\"BookingID\", \"Customer ID\", \"BookingDate\", \"TableNo\"])\n",
    "bookings.head(5)"
   ]
  },
  {
   "cell_type": "code",
   "execution_count": 214,
   "id": "ff56b104",
   "metadata": {},
   "outputs": [],
   "source": [
    "# Convert the Booking Date to a string in the format YYYY-MM-DD\n",
    "bookings[\"BookingDate\"] = bookings[\"BookingDate\"].dt.strftime('%Y-%m-%d')"
   ]
  },
  {
   "cell_type": "code",
   "execution_count": 215,
   "id": "137551a3",
   "metadata": {},
   "outputs": [],
   "source": [
    "# Insert data into the bookings table\n",
    "for i, row in bookings.iterrows():\n",
    "    sql = \"insert into bookings (BookingID, CustomerID, BookingDate, TableNo) values (%s, %s, %s, %s)\"\n",
    "    cursor.execute(sql, tuple(row))"
   ]
  },
  {
   "cell_type": "code",
   "execution_count": null,
   "id": "513541df",
   "metadata": {},
   "outputs": [],
   "source": [
    "# Update persistent changes to the database\n",
    "connection.commit()"
   ]
  },
  {
   "cell_type": "code",
   "execution_count": null,
   "id": "0ad1a84b",
   "metadata": {},
   "outputs": [],
   "source": [
    "# Close the cursor and connection\n",
    "cursor.close()\n",
    "connection.close()"
   ]
  },
  {
   "cell_type": "markdown",
   "id": "2dd7e8dc",
   "metadata": {},
   "source": [
    "The database is ready for experiment and analysis."
   ]
  }
 ],
 "metadata": {
  "kernelspec": {
   "display_name": "Python 3",
   "language": "python",
   "name": "python3"
  },
  "language_info": {
   "codemirror_mode": {
    "name": "ipython",
    "version": 3
   },
   "file_extension": ".py",
   "mimetype": "text/x-python",
   "name": "python",
   "nbconvert_exporter": "python",
   "pygments_lexer": "ipython3",
   "version": "3.13.3"
  }
 },
 "nbformat": 4,
 "nbformat_minor": 5
}
